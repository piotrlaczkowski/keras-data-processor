{
  "cells": [
    {
      "cell_type": "code",
      "execution_count": 1,
      "metadata": {},
      "outputs": [],
      "source": [
        "import numpy as np\n",
        "import pandas as pd\n",
        "import tensorflow as tf\n",
        "from custom_layers import MultiResolutionTabularAttention, TabularAttention\n",
        "from features import CategoricalFeature, DateFeature, Feature, FeatureType, NumericalFeature, TextFeature\n",
        "from processor import (\n",
        "    OutputModeOptions,\n",
        "    PreprocessingModel,\n",
        "    PreprocessorLayerFactory,\n",
        "    TabularAttentionPlacementOptions,\n",
        "    FeatureSpaceConverter,\n",
        ")"
      ]
    },
    {
      "cell_type": "code",
      "execution_count": 2,
      "metadata": {},
      "outputs": [],
      "source": [
        "def generate_fake_data(features_specs: dict, num_rows: int = 10) -> pd.DataFrame:\n",
        "    \"\"\"\n",
        "    Generate a dummy dataset based on feature specifications.\n",
        "\n",
        "    Args:\n",
        "        features_specs: A dictionary with the features and their types,\n",
        "                        where types can be specified as either FeatureType enums,\n",
        "                        class instances (NumericalFeature, CategoricalFeature, TextFeature, DateFeature), or strings.\n",
        "        num_rows: The number of rows to generate.\n",
        "\n",
        "    Returns:\n",
        "        pd.DataFrame: A pandas DataFrame with generated fake data.\n",
        "\n",
        "    Example:\n",
        "        ```python\n",
        "        features_specs = {\n",
        "            \"feat1\": FeatureType.FLOAT_NORMALIZED,\n",
        "            \"feat2\": FeatureType.STRING_CATEGORICAL,\n",
        "            \"feat3\": NumericalFeature(name=\"feat1\", feature_type=FeatureType.FLOAT),\n",
        "            \"feat4\": DateFeature(name=\"date\", feature_type=FeatureType.DATE, date_format=\"%Y-%m-%d\", output_format=\"year\"),\n",
        "            # Other features...\n",
        "        }\n",
        "        df = generate_fake_data(features_specs, num_rows=100)\n",
        "        print(df.head())\n",
        "        ```\n",
        "    \"\"\"\n",
        "    data = {}\n",
        "    for feature, spec in features_specs.items():\n",
        "        if isinstance(spec, Feature):\n",
        "            feature_type = spec.feature_type\n",
        "        elif isinstance(spec, str):\n",
        "            feature_type = FeatureType[spec.upper()] if isinstance(spec, str) else spec\n",
        "        elif isinstance(spec, (NumericalFeature, CategoricalFeature, TextFeature, DateFeature)):\n",
        "            feature_type = spec.feature_type\n",
        "        else:\n",
        "            feature_type = spec\n",
        "\n",
        "        if feature_type in (\n",
        "            FeatureType.FLOAT,\n",
        "            FeatureType.FLOAT_NORMALIZED,\n",
        "            FeatureType.FLOAT_DISCRETIZED,\n",
        "            FeatureType.FLOAT_RESCALED,\n",
        "        ):\n",
        "            data[feature] = np.random.randn(num_rows)\n",
        "        elif feature_type == FeatureType.INTEGER_CATEGORICAL:\n",
        "            data[feature] = np.random.randint(0, 5, size=num_rows)\n",
        "        elif feature_type == FeatureType.STRING_CATEGORICAL:\n",
        "            categories = [\"cat\", \"dog\", \"fish\", \"bird\"]\n",
        "            data[feature] = np.random.choice(categories, size=num_rows)\n",
        "        elif feature_type == FeatureType.TEXT:\n",
        "            sentences = [\"I like birds with feathers and tails.\", \"My dog is white and kind.\"]\n",
        "            data[feature] = np.random.choice(sentences, size=num_rows)\n",
        "        elif feature_type == FeatureType.DATE:\n",
        "            # Generate dates and convert them to string format\n",
        "            start_date = pd.Timestamp(\"2020-01-01\")\n",
        "            end_date = pd.Timestamp(\"2023-01-01\")\n",
        "            date_range = pd.date_range(start=start_date, end=end_date, freq=\"D\")\n",
        "            dates = pd.Series(np.random.choice(date_range, size=num_rows))\n",
        "            data[feature] = dates.dt.strftime(\"%Y-%m-%d\")\n",
        "\n",
        "    return pd.DataFrame(data)\n"
      ]
    },
    {
      "cell_type": "code",
      "execution_count": 15,
      "metadata": {},
      "outputs": [
        {
          "ename": "AttributeError",
          "evalue": "STRING_CATEGORICAL",
          "output_type": "error",
          "traceback": [
            "\u001b[0;31m---------------------------------------------------------------------------\u001b[0m",
            "\u001b[0;31mAttributeError\u001b[0m                            Traceback (most recent call last)",
            "Cell \u001b[0;32mIn[15], line 20\u001b[0m\n\u001b[1;32m      1\u001b[0m features_specs \u001b[38;5;241m=\u001b[39m {\n\u001b[1;32m      2\u001b[0m     \u001b[38;5;66;03m# ======= NUMERICAL Features =========================\u001b[39;00m\n\u001b[1;32m      3\u001b[0m     \u001b[38;5;66;03m# _using the FeatureType\u001b[39;00m\n\u001b[1;32m      4\u001b[0m     \u001b[38;5;124m\"\u001b[39m\u001b[38;5;124mfeat1\u001b[39m\u001b[38;5;124m\"\u001b[39m: FeatureType\u001b[38;5;241m.\u001b[39mFLOAT_NORMALIZED,\n\u001b[1;32m      5\u001b[0m     \u001b[38;5;124m\"\u001b[39m\u001b[38;5;124mfeat2\u001b[39m\u001b[38;5;124m\"\u001b[39m: FeatureType\u001b[38;5;241m.\u001b[39mFLOAT_RESCALED,\n\u001b[1;32m      6\u001b[0m     \u001b[38;5;66;03m# _using the NumericalFeature with custom attributes\u001b[39;00m\n\u001b[1;32m      7\u001b[0m     \u001b[38;5;124m\"\u001b[39m\u001b[38;5;124mfeat3\u001b[39m\u001b[38;5;124m\"\u001b[39m: NumericalFeature(\n\u001b[1;32m      8\u001b[0m         name\u001b[38;5;241m=\u001b[39m\u001b[38;5;124m\"\u001b[39m\u001b[38;5;124mfeat3\u001b[39m\u001b[38;5;124m\"\u001b[39m,\n\u001b[1;32m      9\u001b[0m         feature_type\u001b[38;5;241m=\u001b[39mFeatureType\u001b[38;5;241m.\u001b[39mFLOAT_DISCRETIZED,\n\u001b[1;32m     10\u001b[0m         bin_boundaries\u001b[38;5;241m=\u001b[39m[\u001b[38;5;241m0.0\u001b[39m, \u001b[38;5;241m1.0\u001b[39m, \u001b[38;5;241m2.0\u001b[39m],\n\u001b[1;32m     11\u001b[0m     ),\n\u001b[1;32m     12\u001b[0m     \u001b[38;5;124m\"\u001b[39m\u001b[38;5;124mfeat4\u001b[39m\u001b[38;5;124m\"\u001b[39m: NumericalFeature(\n\u001b[1;32m     13\u001b[0m         name\u001b[38;5;241m=\u001b[39m\u001b[38;5;124m\"\u001b[39m\u001b[38;5;124mfeat4\u001b[39m\u001b[38;5;124m\"\u001b[39m,\n\u001b[1;32m     14\u001b[0m         feature_type\u001b[38;5;241m=\u001b[39mFeatureType\u001b[38;5;241m.\u001b[39mFLOAT,\n\u001b[1;32m     15\u001b[0m     ),\n\u001b[1;32m     16\u001b[0m     \u001b[38;5;66;03m# directly by string name\u001b[39;00m\n\u001b[1;32m     17\u001b[0m     \u001b[38;5;124m\"\u001b[39m\u001b[38;5;124mfeat5\u001b[39m\u001b[38;5;124m\"\u001b[39m: \u001b[38;5;124m\"\u001b[39m\u001b[38;5;124mfloat\u001b[39m\u001b[38;5;124m\"\u001b[39m,\n\u001b[1;32m     18\u001b[0m     \u001b[38;5;66;03m# ======= CATEGORICAL Features ========================\u001b[39;00m\n\u001b[1;32m     19\u001b[0m     \u001b[38;5;66;03m# _using the FeatureType\u001b[39;00m\n\u001b[0;32m---> 20\u001b[0m     \u001b[38;5;124m\"\u001b[39m\u001b[38;5;124mfeat6\u001b[39m\u001b[38;5;124m\"\u001b[39m: \u001b[43mFeatureType\u001b[49m\u001b[38;5;241;43m.\u001b[39;49m\u001b[43mSTRING_CATEGORICAL\u001b[49m,\n\u001b[1;32m     21\u001b[0m     \u001b[38;5;66;03m# _using the CategoricalFeature with custom attributes\u001b[39;00m\n\u001b[1;32m     22\u001b[0m     \u001b[38;5;124m\"\u001b[39m\u001b[38;5;124mfeat7\u001b[39m\u001b[38;5;124m\"\u001b[39m: CategoricalFeature(\n\u001b[1;32m     23\u001b[0m         name\u001b[38;5;241m=\u001b[39m\u001b[38;5;124m\"\u001b[39m\u001b[38;5;124mfeat7\u001b[39m\u001b[38;5;124m\"\u001b[39m,\n\u001b[1;32m     24\u001b[0m         feature_type\u001b[38;5;241m=\u001b[39mFeatureType\u001b[38;5;241m.\u001b[39mINTEGER_CATEGORICAL,\n\u001b[1;32m     25\u001b[0m         embedding_size\u001b[38;5;241m=\u001b[39m\u001b[38;5;241m100\u001b[39m,\n\u001b[1;32m     26\u001b[0m     ),\n\u001b[1;32m     27\u001b[0m     \u001b[38;5;66;03m# ======= TEXT Features ========================\u001b[39;00m\n\u001b[1;32m     28\u001b[0m     \u001b[38;5;124m\"\u001b[39m\u001b[38;5;124mfeat8\u001b[39m\u001b[38;5;124m\"\u001b[39m: TextFeature(\n\u001b[1;32m     29\u001b[0m         name\u001b[38;5;241m=\u001b[39m\u001b[38;5;124m\"\u001b[39m\u001b[38;5;124mfeat8\u001b[39m\u001b[38;5;124m\"\u001b[39m,\n\u001b[1;32m     30\u001b[0m         max_tokens\u001b[38;5;241m=\u001b[39m\u001b[38;5;241m100\u001b[39m,\n\u001b[1;32m     31\u001b[0m         stop_words\u001b[38;5;241m=\u001b[39m[\u001b[38;5;124m\"\u001b[39m\u001b[38;5;124mstop\u001b[39m\u001b[38;5;124m\"\u001b[39m, \u001b[38;5;124m\"\u001b[39m\u001b[38;5;124mnext\u001b[39m\u001b[38;5;124m\"\u001b[39m],\n\u001b[1;32m     32\u001b[0m     ),\n\u001b[1;32m     33\u001b[0m     \u001b[38;5;66;03m# ======= DATE Features ========================\u001b[39;00m\n\u001b[1;32m     34\u001b[0m     \u001b[38;5;124m\"\u001b[39m\u001b[38;5;124mfeat10\u001b[39m\u001b[38;5;124m\"\u001b[39m: DateFeature(\n\u001b[1;32m     35\u001b[0m         name\u001b[38;5;241m=\u001b[39m\u001b[38;5;124m\"\u001b[39m\u001b[38;5;124mfeat10\u001b[39m\u001b[38;5;124m\"\u001b[39m,\n\u001b[1;32m     36\u001b[0m         feature_type\u001b[38;5;241m=\u001b[39mFeatureType\u001b[38;5;241m.\u001b[39mDATE,\n\u001b[1;32m     37\u001b[0m         date_format\u001b[38;5;241m=\u001b[39m\u001b[38;5;124m\"\u001b[39m\u001b[38;5;124m%\u001b[39m\u001b[38;5;124mY-\u001b[39m\u001b[38;5;124m%\u001b[39m\u001b[38;5;124mm-\u001b[39m\u001b[38;5;132;01m%d\u001b[39;00m\u001b[38;5;124m\"\u001b[39m,\n\u001b[1;32m     38\u001b[0m         output_format\u001b[38;5;241m=\u001b[39m\u001b[38;5;124m\"\u001b[39m\u001b[38;5;124myear\u001b[39m\u001b[38;5;124m\"\u001b[39m,\n\u001b[1;32m     39\u001b[0m     ),\n\u001b[1;32m     40\u001b[0m     \u001b[38;5;66;03m# ======== CUSTOM PIPELINE ========================\u001b[39;00m\n\u001b[1;32m     41\u001b[0m     \u001b[38;5;124m\"\u001b[39m\u001b[38;5;124mfeat9\u001b[39m\u001b[38;5;124m\"\u001b[39m: NumericalFeature(\n\u001b[1;32m     42\u001b[0m         name\u001b[38;5;241m=\u001b[39m\u001b[38;5;124m\"\u001b[39m\u001b[38;5;124mfeat9\u001b[39m\u001b[38;5;124m\"\u001b[39m,\n\u001b[1;32m     43\u001b[0m         feature_type\u001b[38;5;241m=\u001b[39mFeatureType\u001b[38;5;241m.\u001b[39mFLOAT_NORMALIZED,\n\u001b[1;32m     44\u001b[0m         preprocessors\u001b[38;5;241m=\u001b[39m[\n\u001b[1;32m     45\u001b[0m             tf\u001b[38;5;241m.\u001b[39mkeras\u001b[38;5;241m.\u001b[39mlayers\u001b[38;5;241m.\u001b[39mRescaling,\n\u001b[1;32m     46\u001b[0m             tf\u001b[38;5;241m.\u001b[39mkeras\u001b[38;5;241m.\u001b[39mlayers\u001b[38;5;241m.\u001b[39mNormalization,\n\u001b[1;32m     47\u001b[0m         ],\n\u001b[1;32m     48\u001b[0m         \u001b[38;5;66;03m# layers required kwargs\u001b[39;00m\n\u001b[1;32m     49\u001b[0m         scale\u001b[38;5;241m=\u001b[39m\u001b[38;5;241m1\u001b[39m,\n\u001b[1;32m     50\u001b[0m     )\n\u001b[1;32m     51\u001b[0m }\n\u001b[1;32m     53\u001b[0m \u001b[38;5;66;03m# Generate and save fake data\u001b[39;00m\n\u001b[1;32m     54\u001b[0m df \u001b[38;5;241m=\u001b[39m generate_fake_data(features_specs\u001b[38;5;241m=\u001b[39mfeatures_specs, num_rows\u001b[38;5;241m=\u001b[39m\u001b[38;5;241m50\u001b[39m)\n",
            "File \u001b[0;32m~/miniconda3/envs/kdp/lib/python3.11/enum.py:786\u001b[0m, in \u001b[0;36mEnumType.__getattr__\u001b[0;34m(cls, name)\u001b[0m\n\u001b[1;32m    784\u001b[0m     \u001b[38;5;28;01mreturn\u001b[39;00m \u001b[38;5;28mcls\u001b[39m\u001b[38;5;241m.\u001b[39m_member_map_[name]\n\u001b[1;32m    785\u001b[0m \u001b[38;5;28;01mexcept\u001b[39;00m \u001b[38;5;167;01mKeyError\u001b[39;00m:\n\u001b[0;32m--> 786\u001b[0m     \u001b[38;5;28;01mraise\u001b[39;00m \u001b[38;5;167;01mAttributeError\u001b[39;00m(name) \u001b[38;5;28;01mfrom\u001b[39;00m \u001b[38;5;28;01mNone\u001b[39;00m\n",
            "\u001b[0;31mAttributeError\u001b[0m: STRING_CATEGORICAL"
          ]
        }
      ],
      "source": [
        "features_specs = {\n",
        "    # ======= NUMERICAL Features =========================\n",
        "    # _using the FeatureType\n",
        "    \"feat1\": FeatureType.FLOAT_NORMALIZED,\n",
        "    \"feat2\": FeatureType.FLOAT_RESCALED,\n",
        "    # _using the NumericalFeature with custom attributes\n",
        "    \"feat3\": NumericalFeature(\n",
        "        name=\"feat3\",\n",
        "        feature_type=FeatureType.FLOAT_DISCRETIZED,\n",
        "        bin_boundaries=[0.0, 1.0, 2.0],\n",
        "    ),\n",
        "    \"feat4\": NumericalFeature(\n",
        "        name=\"feat4\",\n",
        "        feature_type=FeatureType.FLOAT,\n",
        "    ),\n",
        "    # directly by string name\n",
        "    \"feat5\": \"float\",\n",
        "    # ======= CATEGORICAL Features ========================\n",
        "    # _using the FeatureType\n",
        "    \"feat6\": FeatureType.STRING_CATEGORICAL,\n",
        "    # _using the CategoricalFeature with custom attributes\n",
        "    \"feat7\": CategoricalFeature(\n",
        "        name=\"feat7\",\n",
        "        feature_type=FeatureType.INTEGER_CATEGORICAL,\n",
        "        embedding_size=100,\n",
        "    ),\n",
        "    # ======= TEXT Features ========================\n",
        "    \"feat8\": TextFeature(\n",
        "        name=\"feat8\",\n",
        "        max_tokens=100,\n",
        "        stop_words=[\"stop\", \"next\"],\n",
        "    ),\n",
        "    # ======= DATE Features ========================\n",
        "    \"feat10\": DateFeature(\n",
        "        name=\"feat10\",\n",
        "        feature_type=FeatureType.DATE,\n",
        "        date_format=\"%Y-%m-%d\",\n",
        "        output_format=\"year\",\n",
        "    ),\n",
        "    # ======== CUSTOM PIPELINE ========================\n",
        "    \"feat9\": NumericalFeature(\n",
        "        name=\"feat9\",\n",
        "        feature_type=FeatureType.FLOAT_NORMALIZED,\n",
        "        preprocessors=[\n",
        "            tf.keras.layers.Rescaling,\n",
        "            tf.keras.layers.Normalization,\n",
        "        ],\n",
        "        # layers required kwargs\n",
        "        scale=1,\n",
        "    )\n",
        "}\n",
        "\n",
        "# Generate and save fake data\n",
        "df = generate_fake_data(features_specs=features_specs, num_rows=50)\n",
        "df.to_csv(\"data.csv\", index=False)"
      ]
    },
    {
      "cell_type": "code",
      "execution_count": 16,
      "metadata": {},
      "outputs": [
        {
          "ename": "AttributeError",
          "evalue": "INTEGER_CATEGORICAL",
          "output_type": "error",
          "traceback": [
            "\u001b[0;31m---------------------------------------------------------------------------\u001b[0m",
            "\u001b[0;31mAttributeError\u001b[0m                            Traceback (most recent call last)",
            "Cell \u001b[0;32mIn[16], line 2\u001b[0m\n\u001b[1;32m      1\u001b[0m converter \u001b[38;5;241m=\u001b[39m FeatureSpaceConverter()\n\u001b[0;32m----> 2\u001b[0m features_space \u001b[38;5;241m=\u001b[39m \u001b[43mconverter\u001b[49m\u001b[38;5;241;43m.\u001b[39;49m\u001b[43m_init_features_specs\u001b[49m\u001b[43m(\u001b[49m\u001b[43mfeatures_specs\u001b[49m\u001b[43m)\u001b[49m\n",
            "Cell \u001b[0;32mIn[14], line 84\u001b[0m, in \u001b[0;36mFeatureSpaceConverter._init_features_specs\u001b[0;34m(self, features_specs)\u001b[0m\n\u001b[1;32m     76\u001b[0m \u001b[38;5;66;03m# Define sets of permissible feature types for each subclass\u001b[39;00m\n\u001b[1;32m     77\u001b[0m numeric_feature_types \u001b[38;5;241m=\u001b[39m {\n\u001b[1;32m     78\u001b[0m     FeatureType\u001b[38;5;241m.\u001b[39mFLOAT,\n\u001b[1;32m     79\u001b[0m     FeatureType\u001b[38;5;241m.\u001b[39mFLOAT_NORMALIZED,\n\u001b[1;32m     80\u001b[0m     FeatureType\u001b[38;5;241m.\u001b[39mFLOAT_RESCALED,\n\u001b[1;32m     81\u001b[0m     FeatureType\u001b[38;5;241m.\u001b[39mFLOAT_DISCRETIZED,\n\u001b[1;32m     82\u001b[0m }\n\u001b[1;32m     83\u001b[0m categorical_feature_types \u001b[38;5;241m=\u001b[39m {\n\u001b[0;32m---> 84\u001b[0m     \u001b[43mFeatureType\u001b[49m\u001b[38;5;241;43m.\u001b[39;49m\u001b[43mINTEGER_CATEGORICAL\u001b[49m,\n\u001b[1;32m     85\u001b[0m     FeatureType\u001b[38;5;241m.\u001b[39mSTRING_CATEGORICAL,\n\u001b[1;32m     86\u001b[0m }\n\u001b[1;32m     88\u001b[0m \u001b[38;5;28;01mfor\u001b[39;00m name, spec \u001b[38;5;129;01min\u001b[39;00m features_specs\u001b[38;5;241m.\u001b[39mitems():\n\u001b[1;32m     89\u001b[0m     logger\u001b[38;5;241m.\u001b[39mdebug(\u001b[38;5;124mf\u001b[39m\u001b[38;5;124m\"\u001b[39m\u001b[38;5;124mProcessing feature \u001b[39m\u001b[38;5;124m'\u001b[39m\u001b[38;5;132;01m{\u001b[39;00mname\u001b[38;5;132;01m}\u001b[39;00m\u001b[38;5;124m'\u001b[39m\u001b[38;5;124m with spec: \u001b[39m\u001b[38;5;132;01m{\u001b[39;00mspec\u001b[38;5;132;01m}\u001b[39;00m\u001b[38;5;124m\"\u001b[39m)\n",
            "File \u001b[0;32m~/miniconda3/envs/kdp/lib/python3.11/enum.py:786\u001b[0m, in \u001b[0;36mEnumType.__getattr__\u001b[0;34m(cls, name)\u001b[0m\n\u001b[1;32m    784\u001b[0m     \u001b[38;5;28;01mreturn\u001b[39;00m \u001b[38;5;28mcls\u001b[39m\u001b[38;5;241m.\u001b[39m_member_map_[name]\n\u001b[1;32m    785\u001b[0m \u001b[38;5;28;01mexcept\u001b[39;00m \u001b[38;5;167;01mKeyError\u001b[39;00m:\n\u001b[0;32m--> 786\u001b[0m     \u001b[38;5;28;01mraise\u001b[39;00m \u001b[38;5;167;01mAttributeError\u001b[39;00m(name) \u001b[38;5;28;01mfrom\u001b[39;00m \u001b[38;5;28;01mNone\u001b[39;00m\n",
            "\u001b[0;31mAttributeError\u001b[0m: INTEGER_CATEGORICAL"
          ]
        }
      ],
      "source": [
        "converter = FeatureSpaceConverter()\n",
        "features_space = converter._init_features_specs(features_specs)"
      ]
    },
    {
      "cell_type": "code",
      "execution_count": null,
      "metadata": {},
      "outputs": [],
      "source": [
        "ppr = PreprocessingModel(\n",
        "    path_data=\"data.csv\",\n",
        "    features_specs=features_specs,\n",
        "    features_stats_path=\"stats.json\",\n",
        "    overwrite_stats=True,\n",
        ")\n",
        "result = ppr.build_preprocessor()"
      ]
    },
    {
      "cell_type": "code",
      "execution_count": 11,
      "metadata": {},
      "outputs": [
        {
          "name": "stdout",
          "output_type": "stream",
          "text": [
            "FeatureType.FLOAT_NORMALIZED is recognized as numeric feature.\n"
          ]
        }
      ],
      "source": [
        "#!/usr/bin/env python3\n",
        "\n",
        "import enum\n",
        "\n",
        "class FeatureType(enum.Enum):\n",
        "    FLOAT = enum.auto()\n",
        "    FLOAT_NORMALIZED = enum.auto()\n",
        "    FLOAT_RESCALED = enum.auto()\n",
        "    FLOAT_DISCRETIZED = enum.auto()\n",
        "\n",
        "numeric_feature_types = {\n",
        "    FeatureType.FLOAT,\n",
        "    FeatureType.FLOAT_NORMALIZED,\n",
        "    FeatureType.FLOAT_RESCALED,\n",
        "    FeatureType.FLOAT_DISCRETIZED,\n",
        "}\n",
        "\n",
        "spec = FeatureType.FLOAT_NORMALIZED\n",
        "\n",
        "if spec in numeric_feature_types:\n",
        "    print(\"FeatureType.FLOAT_NORMALIZED is recognized as numeric feature.\")\n",
        "else:\n",
        "    raise ValueError(f\"Unsupported feature type: {spec}\")\n"
      ]
    },
    {
      "cell_type": "code",
      "execution_count": null,
      "metadata": {},
      "outputs": [],
      "source": []
    }
  ],
  "metadata": {
    "kernelspec": {
      "display_name": "kdp",
      "language": "python",
      "name": "python3"
    },
    "language_info": {
      "codemirror_mode": {
        "name": "ipython",
        "version": 3
      },
      "file_extension": ".py",
      "mimetype": "text/x-python",
      "name": "python",
      "nbconvert_exporter": "python",
      "pygments_lexer": "ipython3",
      "version": "3.11.9"
    }
  },
  "nbformat": 4,
  "nbformat_minor": 2
}
